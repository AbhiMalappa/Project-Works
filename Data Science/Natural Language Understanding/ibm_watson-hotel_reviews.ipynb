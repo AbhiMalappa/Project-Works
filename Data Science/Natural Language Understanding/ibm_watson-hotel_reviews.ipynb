{
 "cells": [
  {
   "cell_type": "code",
   "execution_count": 2,
   "metadata": {
    "collapsed": true
   },
   "outputs": [],
   "source": [
    "import json\n",
    "import pprint\n",
    "import pandas as pd\n",
    "import pymysql\n",
    "from watson_developer_cloud import NaturalLanguageUnderstandingV1\n",
    "import watson_developer_cloud.natural_language_understanding.features.v1 as Features\n",
    "from nltk.tokenize import word_tokenize\n",
    "from nltk.tokenize import RegexpTokenizer\n",
    "tokenizer = RegexpTokenizer(r'\\w+') # to remove punctuations"
   ]
  },
  {
   "cell_type": "markdown",
   "metadata": {},
   "source": [
    "#connecting to watson developer cloud. Setting up for API call on IBM watson's natural language understanding"
   ]
  },
  {
   "cell_type": "code",
   "execution_count": 16,
   "metadata": {
    "collapsed": true
   },
   "outputs": [],
   "source": [
    "natural_language_understanding = NaturalLanguageUnderstandingV1(\n",
    "  username=\"0fae1b36-6da0-48ed-a19a-aab68667aa21\",\n",
    "  password=\"HSytcyR8sY4q\",\n",
    "  version=\"2017-02-27\")"
   ]
  },
  {
   "cell_type": "code",
   "execution_count": 131,
   "metadata": {
    "collapsed": true
   },
   "outputs": [],
   "source": [
    "txt=\"Wouldn't recommend for anyone who has problems with anxiety. I never had a panic attack after smoking weed until I smoked Al's Dream. Not sure if it was fully the fault of the strain or what but I definitely will not be trying this strain again\""
   ]
  },
  {
   "cell_type": "code",
   "execution_count": 133,
   "metadata": {
    "scrolled": true
   },
   "outputs": [
    {
     "name": "stdout",
     "output_type": "stream",
     "text": [
      "{'emotion': {'document': {'emotion': {'anger': 0.123642,\n",
      "                                      'disgust': 0.112105,\n",
      "                                      'fear': 0.877317,\n",
      "                                      'joy': 0.009952,\n",
      "                                      'sadness': 0.121765}},\n",
      "             'targets': [{'emotion': {'anger': 0.248962,\n",
      "                                      'disgust': 0.172239,\n",
      "                                      'fear': 0.153963,\n",
      "                                      'joy': 0.069943,\n",
      "                                      'sadness': 0.272133},\n",
      "                          'text': 'strain'}]},\n",
      " 'keywords': [{'relevance': 0.984396, 'text': 'panic attack'},\n",
      "              {'relevance': 0.865892, 'text': 'strain'},\n",
      "              {'relevance': 0.68718, 'text': 'anxiety'},\n",
      "              {'relevance': 0.680216, 'text': 'fault'},\n",
      "              {'relevance': 0.652196, 'text': 'weed'},\n",
      "              {'relevance': 0.579098, 'text': 'problems'},\n",
      "              {'relevance': 0.551015, 'text': 'Al'},\n",
      "              {'relevance': 0.550382, 'text': 'Dream'}],\n",
      " 'language': 'en',\n",
      " 'sentiment': {'document': {'label': 'negative', 'score': -0.795903},\n",
      "               'targets': [{'label': 'negative',\n",
      "                            'score': -0.771995,\n",
      "                            'text': 'strain'}]},\n",
      " 'usage': {'features': 3, 'text_characters': 244, 'text_units': 1}}\n"
     ]
    }
   ],
   "source": [
    "response = natural_language_understanding.analyze(\n",
    "                                                  text=txt,\n",
    "                                                  features=[Features.Keywords(),\n",
    "                                                            Features.Emotion(targets=[\"strain\"]),\n",
    "                                                            Features.Sentiment(targets=[\"strain\"]),\n",
    "                                                            ],\n",
    "                                                  language='en'\n",
    "                                                 )\n",
    "pprint.pprint(response)"
   ]
  },
  {
   "cell_type": "markdown",
   "metadata": {},
   "source": [
    "Generating response.\n",
    "Look into - https://www.ibm.com/watson/developercloud/natural-language-understanding/api/v1/#authentication"
   ]
  },
  {
   "cell_type": "markdown",
   "metadata": {},
   "source": [
    "#retrivng customer reviews stored on mysql database into a pandas dataframe"
   ]
  },
  {
   "cell_type": "code",
   "execution_count": 11,
   "metadata": {
    "collapsed": true
   },
   "outputs": [],
   "source": [
    "connection =pymysql.connect(\n",
    "                            host='***',\n",
    "                            user='dev1',\n",
    "                            passwd='****',\n",
    "                            db='***')\n",
    "sql='select * from leafly_strainreviews'\n",
    "data=pd.read_sql(sql,con=connection)\n"
   ]
  },
  {
   "cell_type": "code",
   "execution_count": 49,
   "metadata": {},
   "outputs": [],
   "source": [
    "df=pd.read_csv(\"hotel_reviews.csv\")"
   ]
  },
  {
   "cell_type": "code",
   "execution_count": 50,
   "metadata": {},
   "outputs": [
    {
     "data": {
      "text/html": [
       "<div>\n",
       "<style>\n",
       "    .dataframe thead tr:only-child th {\n",
       "        text-align: right;\n",
       "    }\n",
       "\n",
       "    .dataframe thead th {\n",
       "        text-align: left;\n",
       "    }\n",
       "\n",
       "    .dataframe tbody tr th {\n",
       "        vertical-align: top;\n",
       "    }\n",
       "</style>\n",
       "<table border=\"1\" class=\"dataframe\">\n",
       "  <thead>\n",
       "    <tr style=\"text-align: right;\">\n",
       "      <th></th>\n",
       "      <th>address</th>\n",
       "      <th>categories</th>\n",
       "      <th>city</th>\n",
       "      <th>country</th>\n",
       "      <th>latitude</th>\n",
       "      <th>longitude</th>\n",
       "      <th>name</th>\n",
       "      <th>postalCode</th>\n",
       "      <th>province</th>\n",
       "      <th>reviews.date</th>\n",
       "      <th>reviews.dateAdded</th>\n",
       "      <th>reviews.doRecommend</th>\n",
       "      <th>reviews.id</th>\n",
       "      <th>reviews.rating</th>\n",
       "      <th>reviews.text</th>\n",
       "      <th>reviews.title</th>\n",
       "      <th>reviews.userCity</th>\n",
       "      <th>reviews.username</th>\n",
       "      <th>reviews.userProvince</th>\n",
       "    </tr>\n",
       "  </thead>\n",
       "  <tbody>\n",
       "    <tr>\n",
       "      <th>0</th>\n",
       "      <td>Riviera San Nicol 11/a</td>\n",
       "      <td>Hotels</td>\n",
       "      <td>Mableton</td>\n",
       "      <td>US</td>\n",
       "      <td>45.421611</td>\n",
       "      <td>12.376187</td>\n",
       "      <td>Hotel Russo Palace</td>\n",
       "      <td>30126</td>\n",
       "      <td>GA</td>\n",
       "      <td>2013-09-22T00:00:00Z</td>\n",
       "      <td>2016-10-24T00:00:25Z</td>\n",
       "      <td>NaN</td>\n",
       "      <td>NaN</td>\n",
       "      <td>4.0</td>\n",
       "      <td>Pleasant 10 min walk along the sea front to th...</td>\n",
       "      <td>Good location away from the crouds</td>\n",
       "      <td>NaN</td>\n",
       "      <td>Russ (kent)</td>\n",
       "      <td>NaN</td>\n",
       "    </tr>\n",
       "    <tr>\n",
       "      <th>1</th>\n",
       "      <td>Riviera San Nicol 11/a</td>\n",
       "      <td>Hotels</td>\n",
       "      <td>Mableton</td>\n",
       "      <td>US</td>\n",
       "      <td>45.421611</td>\n",
       "      <td>12.376187</td>\n",
       "      <td>Hotel Russo Palace</td>\n",
       "      <td>30126</td>\n",
       "      <td>GA</td>\n",
       "      <td>2015-04-03T00:00:00Z</td>\n",
       "      <td>2016-10-24T00:00:25Z</td>\n",
       "      <td>NaN</td>\n",
       "      <td>NaN</td>\n",
       "      <td>5.0</td>\n",
       "      <td>Really lovely hotel. Stayed on the very top fl...</td>\n",
       "      <td>Great hotel with Jacuzzi bath!</td>\n",
       "      <td>NaN</td>\n",
       "      <td>A Traveler</td>\n",
       "      <td>NaN</td>\n",
       "    </tr>\n",
       "    <tr>\n",
       "      <th>2</th>\n",
       "      <td>Riviera San Nicol 11/a</td>\n",
       "      <td>Hotels</td>\n",
       "      <td>Mableton</td>\n",
       "      <td>US</td>\n",
       "      <td>45.421611</td>\n",
       "      <td>12.376187</td>\n",
       "      <td>Hotel Russo Palace</td>\n",
       "      <td>30126</td>\n",
       "      <td>GA</td>\n",
       "      <td>2014-05-13T00:00:00Z</td>\n",
       "      <td>2016-10-24T00:00:25Z</td>\n",
       "      <td>NaN</td>\n",
       "      <td>NaN</td>\n",
       "      <td>5.0</td>\n",
       "      <td>Ett mycket bra hotell. Det som drog ner betyge...</td>\n",
       "      <td>Lugnt l��ge</td>\n",
       "      <td>NaN</td>\n",
       "      <td>Maud</td>\n",
       "      <td>NaN</td>\n",
       "    </tr>\n",
       "  </tbody>\n",
       "</table>\n",
       "</div>"
      ],
      "text/plain": [
       "                  address categories      city country   latitude  longitude  \\\n",
       "0  Riviera San Nicol 11/a     Hotels  Mableton      US  45.421611  12.376187   \n",
       "1  Riviera San Nicol 11/a     Hotels  Mableton      US  45.421611  12.376187   \n",
       "2  Riviera San Nicol 11/a     Hotels  Mableton      US  45.421611  12.376187   \n",
       "\n",
       "                 name postalCode province          reviews.date  \\\n",
       "0  Hotel Russo Palace      30126       GA  2013-09-22T00:00:00Z   \n",
       "1  Hotel Russo Palace      30126       GA  2015-04-03T00:00:00Z   \n",
       "2  Hotel Russo Palace      30126       GA  2014-05-13T00:00:00Z   \n",
       "\n",
       "      reviews.dateAdded  reviews.doRecommend  reviews.id  reviews.rating  \\\n",
       "0  2016-10-24T00:00:25Z                  NaN         NaN             4.0   \n",
       "1  2016-10-24T00:00:25Z                  NaN         NaN             5.0   \n",
       "2  2016-10-24T00:00:25Z                  NaN         NaN             5.0   \n",
       "\n",
       "                                        reviews.text  \\\n",
       "0  Pleasant 10 min walk along the sea front to th...   \n",
       "1  Really lovely hotel. Stayed on the very top fl...   \n",
       "2  Ett mycket bra hotell. Det som drog ner betyge...   \n",
       "\n",
       "                        reviews.title reviews.userCity reviews.username  \\\n",
       "0  Good location away from the crouds              NaN      Russ (kent)   \n",
       "1      Great hotel with Jacuzzi bath!              NaN       A Traveler   \n",
       "2                         Lugnt l��ge              NaN             Maud   \n",
       "\n",
       "  reviews.userProvince  \n",
       "0                  NaN  \n",
       "1                  NaN  \n",
       "2                  NaN  "
      ]
     },
     "execution_count": 50,
     "metadata": {},
     "output_type": "execute_result"
    }
   ],
   "source": [
    "df.head(3)"
   ]
  },
  {
   "cell_type": "code",
   "execution_count": 51,
   "metadata": {
    "scrolled": true
   },
   "outputs": [
    {
     "data": {
      "text/plain": [
       "(35912, 19)"
      ]
     },
     "execution_count": 51,
     "metadata": {},
     "output_type": "execute_result"
    }
   ],
   "source": [
    "df.shape"
   ]
  },
  {
   "cell_type": "markdown",
   "metadata": {},
   "source": [
    "analyzing the revirews"
   ]
  },
  {
   "cell_type": "code",
   "execution_count": 60,
   "metadata": {},
   "outputs": [
    {
     "data": {
      "text/html": [
       "<div>\n",
       "<style>\n",
       "    .dataframe thead tr:only-child th {\n",
       "        text-align: right;\n",
       "    }\n",
       "\n",
       "    .dataframe thead th {\n",
       "        text-align: left;\n",
       "    }\n",
       "\n",
       "    .dataframe tbody tr th {\n",
       "        vertical-align: top;\n",
       "    }\n",
       "</style>\n",
       "<table border=\"1\" class=\"dataframe\">\n",
       "  <thead>\n",
       "    <tr style=\"text-align: right;\">\n",
       "      <th></th>\n",
       "      <th>reviews.text</th>\n",
       "    </tr>\n",
       "  </thead>\n",
       "  <tbody>\n",
       "    <tr>\n",
       "      <th>0</th>\n",
       "      <td>Pleasant 10 min walk along the sea front to th...</td>\n",
       "    </tr>\n",
       "    <tr>\n",
       "      <th>1</th>\n",
       "      <td>Really lovely hotel. Stayed on the very top fl...</td>\n",
       "    </tr>\n",
       "    <tr>\n",
       "      <th>2</th>\n",
       "      <td>Ett mycket bra hotell. Det som drog ner betyge...</td>\n",
       "    </tr>\n",
       "    <tr>\n",
       "      <th>3</th>\n",
       "      <td>We stayed here for four nights in October. The...</td>\n",
       "    </tr>\n",
       "    <tr>\n",
       "      <th>4</th>\n",
       "      <td>We stayed here for four nights in October. The...</td>\n",
       "    </tr>\n",
       "    <tr>\n",
       "      <th>5</th>\n",
       "      <td>We loved staying on the island of Lido! You ne...</td>\n",
       "    </tr>\n",
       "    <tr>\n",
       "      <th>6</th>\n",
       "      <td>Lovely view out onto the lagoon. Excellent vie...</td>\n",
       "    </tr>\n",
       "    <tr>\n",
       "      <th>7</th>\n",
       "      <td>ottimo soggiorno e ottima sistemazione nei gio...</td>\n",
       "    </tr>\n",
       "    <tr>\n",
       "      <th>8</th>\n",
       "      <td>Gnstiger Ausgangspunkt fr Venedig Besuche. Ruh...</td>\n",
       "    </tr>\n",
       "    <tr>\n",
       "      <th>9</th>\n",
       "      <td>Lidoen er perfekt til et par dages ro og afsla...</td>\n",
       "    </tr>\n",
       "  </tbody>\n",
       "</table>\n",
       "</div>"
      ],
      "text/plain": [
       "                                        reviews.text\n",
       "0  Pleasant 10 min walk along the sea front to th...\n",
       "1  Really lovely hotel. Stayed on the very top fl...\n",
       "2  Ett mycket bra hotell. Det som drog ner betyge...\n",
       "3  We stayed here for four nights in October. The...\n",
       "4  We stayed here for four nights in October. The...\n",
       "5  We loved staying on the island of Lido! You ne...\n",
       "6  Lovely view out onto the lagoon. Excellent vie...\n",
       "7  ottimo soggiorno e ottima sistemazione nei gio...\n",
       "8  Gnstiger Ausgangspunkt fr Venedig Besuche. Ruh...\n",
       "9  Lidoen er perfekt til et par dages ro og afsla..."
      ]
     },
     "execution_count": 60,
     "metadata": {},
     "output_type": "execute_result"
    }
   ],
   "source": [
    "df1=df[0:10]\n",
    "df1=df1[[\"reviews.text\"]]\n",
    "df1"
   ]
  },
  {
   "cell_type": "code",
   "execution_count": 61,
   "metadata": {},
   "outputs": [],
   "source": [
    "anger=[]\n",
    "disgust=[]\n",
    "fear=[]\n",
    "joy=[]\n",
    "sadness=[]\n",
    "keywords=[]\n",
    "sentiment=[]\n",
    "sentiment_score=[]\n",
    "count=0\n",
    "for a in range(0,df1.shape[0]):\n",
    "    txt=df.iloc[a]['reviews.text']\n",
    "    count=count+1\n",
    "    if len(txt)<20:\n",
    "        sentiment.append('null')\n",
    "        sentiment_score.append('null')\n",
    "        anger.append(\"null\")\n",
    "        disgust.append(\"null\")\n",
    "        fear.append(\"null\")\n",
    "        joy.append(\"null\")\n",
    "        sadness.append(\"null\")\n",
    "        keywords.append(\"null\")\n",
    "        continue\n",
    "    response = natural_language_understanding.analyze(\n",
    "                                                      text=txt,\n",
    "                                                      features=[\n",
    "                                                                 Features.Keywords(),\n",
    "                                                                 Features.Emotion(),\n",
    "                                                                 Features.Sentiment()],\n",
    "                                                      language='en'\n",
    "                                                     )\n",
    "    sentiment.append(response['sentiment']['document']['label'])\n",
    "    sentiment_score.append(response['sentiment']['document']['score'])\n",
    "    anger.append(response['emotion']['document']['emotion']['anger'])\n",
    "    disgust.append(response['emotion']['document']['emotion']['disgust'])\n",
    "    fear.append(response['emotion']['document']['emotion']['fear'])\n",
    "    joy.append(response['emotion']['document']['emotion']['joy'])\n",
    "    sadness.append(response['emotion']['document']['emotion']['sadness'])\n",
    "    words=[]\n",
    "    for aa in response['keywords']:\n",
    "        words.append(aa['text'])\n",
    "    keywords.append(words)"
   ]
  },
  {
   "cell_type": "code",
   "execution_count": 62,
   "metadata": {},
   "outputs": [],
   "source": [
    "df1['keywords'] = keywords\n",
    "df1['sentiment']= sentiment\n",
    "df1['sentiment_score']= sentiment_score\n",
    "df1['joy'] = joy\n",
    "df1['sadness'] = sadness\n",
    "df1['fear'] = fear\n",
    "df1['disgust'] = disgust\n",
    "df1['anger'] = anger"
   ]
  },
  {
   "cell_type": "code",
   "execution_count": 63,
   "metadata": {
    "scrolled": true
   },
   "outputs": [
    {
     "data": {
      "text/html": [
       "<div>\n",
       "<style>\n",
       "    .dataframe thead tr:only-child th {\n",
       "        text-align: right;\n",
       "    }\n",
       "\n",
       "    .dataframe thead th {\n",
       "        text-align: left;\n",
       "    }\n",
       "\n",
       "    .dataframe tbody tr th {\n",
       "        vertical-align: top;\n",
       "    }\n",
       "</style>\n",
       "<table border=\"1\" class=\"dataframe\">\n",
       "  <thead>\n",
       "    <tr style=\"text-align: right;\">\n",
       "      <th></th>\n",
       "      <th>reviews.text</th>\n",
       "      <th>keywords</th>\n",
       "      <th>sentiment</th>\n",
       "      <th>sentiment_score</th>\n",
       "      <th>joy</th>\n",
       "      <th>sadness</th>\n",
       "      <th>fear</th>\n",
       "      <th>disgust</th>\n",
       "      <th>anger</th>\n",
       "    </tr>\n",
       "  </thead>\n",
       "  <tbody>\n",
       "    <tr>\n",
       "      <th>0</th>\n",
       "      <td>Pleasant 10 min walk along the sea front to th...</td>\n",
       "      <td>[Water Bus. restaurants, Room aircon, min, Ple...</td>\n",
       "      <td>negative</td>\n",
       "      <td>-0.130910</td>\n",
       "      <td>0.705191</td>\n",
       "      <td>0.048357</td>\n",
       "      <td>0.118621</td>\n",
       "      <td>0.164352</td>\n",
       "      <td>0.024069</td>\n",
       "    </tr>\n",
       "    <tr>\n",
       "      <th>1</th>\n",
       "      <td>Really lovely hotel. Stayed on the very top fl...</td>\n",
       "      <td>[lovely hotel, Jacuzzi bath, Great location, g...</td>\n",
       "      <td>positive</td>\n",
       "      <td>0.516788</td>\n",
       "      <td>0.930877</td>\n",
       "      <td>0.011671</td>\n",
       "      <td>0.006477</td>\n",
       "      <td>0.021599</td>\n",
       "      <td>0.030317</td>\n",
       "    </tr>\n",
       "    <tr>\n",
       "      <th>2</th>\n",
       "      <td>Ett mycket bra hotell. Det som drog ner betyge...</td>\n",
       "      <td>[fick ett rum, Ett mycket bra, det endast var,...</td>\n",
       "      <td>neutral</td>\n",
       "      <td>0.000000</td>\n",
       "      <td>0.263506</td>\n",
       "      <td>0.179896</td>\n",
       "      <td>0.082685</td>\n",
       "      <td>0.075268</td>\n",
       "      <td>0.068068</td>\n",
       "    </tr>\n",
       "    <tr>\n",
       "      <th>3</th>\n",
       "      <td>We stayed here for four nights in October. The...</td>\n",
       "      <td>[airy rooms, hotel staff, nights, Beds, Plenty...</td>\n",
       "      <td>positive</td>\n",
       "      <td>0.573835</td>\n",
       "      <td>0.697699</td>\n",
       "      <td>0.065437</td>\n",
       "      <td>0.070148</td>\n",
       "      <td>0.045702</td>\n",
       "      <td>0.050515</td>\n",
       "    </tr>\n",
       "    <tr>\n",
       "      <th>4</th>\n",
       "      <td>We stayed here for four nights in October. The...</td>\n",
       "      <td>[airy rooms, hotel staff, nights, Beds, Plenty...</td>\n",
       "      <td>positive</td>\n",
       "      <td>0.573835</td>\n",
       "      <td>0.697699</td>\n",
       "      <td>0.065437</td>\n",
       "      <td>0.070148</td>\n",
       "      <td>0.045702</td>\n",
       "      <td>0.050515</td>\n",
       "    </tr>\n",
       "  </tbody>\n",
       "</table>\n",
       "</div>"
      ],
      "text/plain": [
       "                                        reviews.text  \\\n",
       "0  Pleasant 10 min walk along the sea front to th...   \n",
       "1  Really lovely hotel. Stayed on the very top fl...   \n",
       "2  Ett mycket bra hotell. Det som drog ner betyge...   \n",
       "3  We stayed here for four nights in October. The...   \n",
       "4  We stayed here for four nights in October. The...   \n",
       "\n",
       "                                            keywords sentiment  \\\n",
       "0  [Water Bus. restaurants, Room aircon, min, Ple...  negative   \n",
       "1  [lovely hotel, Jacuzzi bath, Great location, g...  positive   \n",
       "2  [fick ett rum, Ett mycket bra, det endast var,...   neutral   \n",
       "3  [airy rooms, hotel staff, nights, Beds, Plenty...  positive   \n",
       "4  [airy rooms, hotel staff, nights, Beds, Plenty...  positive   \n",
       "\n",
       "   sentiment_score       joy   sadness      fear   disgust     anger  \n",
       "0        -0.130910  0.705191  0.048357  0.118621  0.164352  0.024069  \n",
       "1         0.516788  0.930877  0.011671  0.006477  0.021599  0.030317  \n",
       "2         0.000000  0.263506  0.179896  0.082685  0.075268  0.068068  \n",
       "3         0.573835  0.697699  0.065437  0.070148  0.045702  0.050515  \n",
       "4         0.573835  0.697699  0.065437  0.070148  0.045702  0.050515  "
      ]
     },
     "execution_count": 63,
     "metadata": {},
     "output_type": "execute_result"
    }
   ],
   "source": [
    "df1.head()"
   ]
  },
  {
   "cell_type": "code",
   "execution_count": 140,
   "metadata": {
    "collapsed": true
   },
   "outputs": [],
   "source": [
    "df.to_csv('reviews_ibm_watson_ptsd.csv',index=False)"
   ]
  },
  {
   "cell_type": "code",
   "execution_count": null,
   "metadata": {
    "collapsed": true
   },
   "outputs": [],
   "source": []
  }
 ],
 "metadata": {
  "kernelspec": {
   "display_name": "Python 3",
   "language": "python",
   "name": "python3"
  },
  "language_info": {
   "codemirror_mode": {
    "name": "ipython",
    "version": 3
   },
   "file_extension": ".py",
   "mimetype": "text/x-python",
   "name": "python",
   "nbconvert_exporter": "python",
   "pygments_lexer": "ipython3",
   "version": "3.6.1"
  }
 },
 "nbformat": 4,
 "nbformat_minor": 2
}

